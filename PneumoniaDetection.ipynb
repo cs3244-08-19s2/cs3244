{
 "cells": [
  {
   "cell_type": "code",
   "execution_count": 45,
   "metadata": {},
   "outputs": [],
   "source": [
    "import tensorflow as tf\n",
    "import matplotlib.pyplot as plt\n",
    "import numpy as np\n",
    "import platform\n",
    "import utils\n",
    "import ioreader"
   ]
  },
  {
   "cell_type": "code",
   "execution_count": 46,
   "metadata": {},
   "outputs": [],
   "source": [
    "### MODEL PARAMETERS ###\n",
    "\n",
    "optimizer_func = 'adam'\n",
    "loss_func = 'binary_crossentropy'\n",
    "epochs_num = 3\n",
    "\n",
    "model_name = 'pneumonia_detector.model'"
   ]
  },
  {
   "cell_type": "code",
   "execution_count": 47,
   "metadata": {},
   "outputs": [],
   "source": [
    "### SETTINGS ###\n",
    "\n",
    "path_divider = \"/\" if platform.system() == \"Windows\" else \"\\\\\"\n",
    "\n",
    "# Data paths\n",
    "path_training_normal = \".{}chest_xray{}train{}NORMAL{}\".format(path_divider, path_divider, path_divider, path_divider)\n",
    "path_training_pneumonia = \".{}chest_xray{}train{}PNEUMONIA{}\".format(path_divider, path_divider, path_divider, path_divider)\n",
    "path_testing = \".{}chest_xray{}test{}\".format(path_divider, path_divider, path_divider)\n",
    "path_validation = \".{}chest_xray{}val{}\".format(path_divider, path_divider, path_divider)\n",
    "\n",
    "# Labels\n",
    "normal_label = \"NORMAL\"\n",
    "pneumonia_label = \"PNEUMONIA\"\n",
    "\n",
    "labels = sorted([normal_label, pneumonia_label])"
   ]
  },
  {
   "cell_type": "code",
   "execution_count": 48,
   "metadata": {},
   "outputs": [],
   "source": [
    "# Training data and labels creation\n",
    "imgpaths_training_normal = utils.extract_image_paths(path_training_normal)\n",
    "imgpaths_training_pneumonia = utils.extract_image_paths(path_training_normal)\n",
    "\n",
    "labels_training_normal = [normal_label] * len(imgpaths_training_normal)\n",
    "labels_training_pneumonia = [pneumonia_label] * len(imgpaths_training_pneumonia)\n",
    "\n",
    "# For now only 10 pictures because loading of all the images takes ages\n",
    "img_training = []\n",
    "for i in range(10):\n",
    "    img_training.append(ioreader.load_image(imgpaths_training_normal[i]))\n",
    "for i in range(10):\n",
    "    img_training.append(ioreader.load_image(imgpaths_training_pneumonia[i]))\n",
    "img_training = np.asarray(img_training)\n",
    "\n",
    "label_training = np.asarray(labels_training_normal + labels_training_pneumonia)"
   ]
  },
  {
   "cell_type": "code",
   "execution_count": 49,
   "metadata": {},
   "outputs": [],
   "source": [
    "# Image processing\n",
    "\n",
    "# TODO: image normalisation\n",
    "# img_training_normal = tf.keras.utils.normalize(img_training_normal, axis=0)\n",
    "\n",
    "# TODO: image resizing\n",
    "\n",
    "# TODO: image cropping"
   ]
  },
  {
   "cell_type": "code",
   "execution_count": 50,
   "metadata": {},
   "outputs": [],
   "source": [
    "# Model creation using Keras\n",
    "\n",
    "model = tf.keras.models.Sequential()\n",
    "\n",
    "# Input layer - Flatten the image (each pixel is the input)\n",
    "model.add(tf.keras.layers.Flatten())\n",
    "\n",
    "# Hidden layer\n",
    "model.add(tf.keras.layers.Dense(128, activation=tf.nn.relu))\n",
    "model.add(tf.keras.layers.Dense(128, activation=tf.nn.relu))\n",
    "\n",
    "# Output layer - NORMAL or PNEUMONIA\n",
    "model.add(tf.keras.layers.Dense(2, activation=tf.nn.softmax))\n",
    "\n",
    "# Define optimiser, loss function, and metrics to track\n",
    "model.compile(optimizer=optimizer_func, loss=loss_func, metrics=['accuracy'])"
   ]
  },
  {
   "cell_type": "code",
   "execution_count": 1,
   "metadata": {},
   "outputs": [],
   "source": [
    "# Model training\n",
    "model.fit(img_training, label_training, epochs=epochs_num)"
   ]
  },
  {
   "cell_type": "code",
   "execution_count": null,
   "metadata": {},
   "outputs": [],
   "source": [
    "# TODO: Validation against validation dataset and testing dataset\n",
    "# val_loss, val_accuracy = model.evaluate(img_validation, label_validation)\n",
    "# test_loss, test_accuracy = model.evaluate(img_testing, label_testing)"
   ]
  },
  {
   "cell_type": "code",
   "execution_count": null,
   "metadata": {},
   "outputs": [],
   "source": [
    "# Save the model for usage\n",
    "model.save(model_name)"
   ]
  },
  {
   "cell_type": "code",
   "execution_count": null,
   "metadata": {},
   "outputs": [],
   "source": [
    "# Load model\n",
    "new_model = tf.keras.models.load_model(model_name)"
   ]
  },
  {
   "cell_type": "code",
   "execution_count": null,
   "metadata": {},
   "outputs": [],
   "source": [
    "# to_test = np.asarray([test1, test2, ...])\n",
    "# predictions = new_model.predict(to_test)\n",
    "# TODO: convert to class labels and probability"
   ]
  }
 ],
 "metadata": {
  "kernelspec": {
   "display_name": "Python 3",
   "language": "python",
   "name": "python3"
  },
  "language_info": {
   "codemirror_mode": {
    "name": "ipython",
    "version": 3
   },
   "file_extension": ".py",
   "mimetype": "text/x-python",
   "name": "python",
   "nbconvert_exporter": "python",
   "pygments_lexer": "ipython3",
   "version": "3.6.10"
  }
 },
 "nbformat": 4,
 "nbformat_minor": 4
}
