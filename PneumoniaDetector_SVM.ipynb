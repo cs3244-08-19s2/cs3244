{
 "cells": [
  {
   "cell_type": "markdown",
   "metadata": {},
   "source": [
    "# Import Library"
   ]
  },
  {
   "cell_type": "code",
   "execution_count": 1,
   "metadata": {},
   "outputs": [
    {
     "name": "stderr",
     "output_type": "stream",
     "text": [
      "Using TensorFlow backend.\n"
     ]
    }
   ],
   "source": [
    "import matplotlib.pyplot as plt\n",
    "import numpy as np\n",
    "import platform\n",
    "import os\n",
    "from sklearn.utils import class_weight\n",
    "from sklearn.svm import SVC\n",
    "from sklearn.metrics import classification_report, confusion_matrix\n",
    "\n",
    "%matplotlib inline\n",
    "%load_ext autoreload\n",
    "%aimport utils\n",
    "%autoreload 1"
   ]
  },
  {
   "cell_type": "markdown",
   "metadata": {},
   "source": [
    "# Settings"
   ]
  },
  {
   "cell_type": "code",
   "execution_count": 2,
   "metadata": {},
   "outputs": [],
   "source": [
    "pdiv = \"/\" if platform.system() == \"Windows\" else \"\\\\\"\n",
    "### LABELS ###\n",
    "\n",
    "normal_label = 0\n",
    "pneumonia_label = 1\n",
    "labels = sorted([normal_label, pneumonia_label])\n",
    "\n",
    "### IMAGE SETTINGS ###\n",
    "\n",
    "dimension = (64,0)\n",
    "resize_dim = dimension[:2]"
   ]
  },
  {
   "cell_type": "markdown",
   "metadata": {},
   "source": [
    "# Training data preparation"
   ]
  },
  {
   "cell_type": "code",
   "execution_count": 3,
   "metadata": {
    "scrolled": true
   },
   "outputs": [
    {
     "name": "stdout",
     "output_type": "stream",
     "text": [
      "Using cache training_normal.pickle\n",
      "Using cache training_pneumonia.pickle\n"
     ]
    }
   ],
   "source": [
    "train_normal_cache = \"training_normal.pickle\"\n",
    "train_pneumonia_cache = \"training_pneumonia.pickle\"\n",
    "\n",
    "path_train_normal = \".{}chest_xray{}train{}NORMAL{}\".format(pdiv, pdiv, pdiv, pdiv)\n",
    "path_train_pneumonia = \".{}chest_xray{}train{}PNEUMONIA{}\".format(pdiv, pdiv, pdiv, pdiv)\n",
    "\n",
    "data_train_normal, label_train_normal = utils.load_data(path_train_normal, train_normal_cache, normal_label)\n",
    "data_train_pneumonia, label_train_pneumonia = utils.load_data(path_train_pneumonia, train_pneumonia_cache, pneumonia_label)\n",
    "\n",
    "# Caching, disabled for now\n",
    "# utils.cache(data_train_normal, train_normal_cache)\n",
    "# utils.cache(data_train_pneumonia, train_pneumonia_cache)\n",
    "\n",
    "# Combine training images and labels\n",
    "data_train = np.concatenate((data_train_normal, data_train_pneumonia), axis=0)\n",
    "label_train = np.asarray(label_train_normal + label_train_pneumonia)\n",
    "\n",
    "# Shuffle\n",
    "rand_order = np.random.permutation(data_train.shape[0])\n",
    "data_train = data_train[rand_order]\n",
    "label_train = label_train[rand_order]\n",
    "\n",
    "del data_train_normal\n",
    "del data_train_pneumonia\n",
    "\n",
    "### IMAGE PROCESSING ###\n",
    "\n",
    "# Image cropping\n",
    "data_train = utils.images_crop_from_centre(data_train, percentage=0.9)\n",
    "\n",
    "# Image resizing\n",
    "data_train = utils.images_resize2D(data_train) \n",
    "\n",
    "# Image normalisation\n",
    "data_train = utils.images_normalize2D(data_train)\n",
    "\n"
   ]
  },
  {
   "cell_type": "markdown",
   "metadata": {},
   "source": [
    "# Testing data preparation"
   ]
  },
  {
   "cell_type": "code",
   "execution_count": 4,
   "metadata": {},
   "outputs": [
    {
     "name": "stdout",
     "output_type": "stream",
     "text": [
      "Using cache training_normal.pickle\n",
      "Using cache training_pneumonia.pickle\n"
     ]
    }
   ],
   "source": [
    "test_normal_cache = \"training_normal.pickle\"\n",
    "test_pneumonia_cache = \"training_pneumonia.pickle\"\n",
    "\n",
    "path_test_normal = \".{}chest_xray{}test{}NORMAL{}\".format(pdiv, pdiv, pdiv, pdiv)\n",
    "path_test_pneumonia = \".{}chest_xray{}test{}PNEUMONIA{}\".format(pdiv, pdiv, pdiv, pdiv)\n",
    "\n",
    "### LOAD TESTING DATA AND LABELS ###\n",
    "\n",
    "data_test_normal, label_test_normal = utils.load_data(path_test_normal, test_normal_cache, normal_label)\n",
    "data_test_pneumonia, label_test_pneumonia = utils.load_data(path_test_pneumonia, test_pneumonia_cache, pneumonia_label)\n",
    "\n",
    "\n",
    "# Caching, disabled for now\n",
    "utils.cache(data_test_normal, test_normal_cache)\n",
    "utils.cache(data_test_pneumonia, test_pneumonia_cache)\n",
    "\n",
    "# Combine training images and labels\n",
    "data_test = np.concatenate((data_test_normal, data_test_pneumonia), axis=0)\n",
    "label_test = np.asarray(label_test_normal + label_test_pneumonia)\n",
    "\n",
    "# Shuffle\n",
    "rand_order = np.random.permutation(data_test.shape[0])\n",
    "data_test = data_test[rand_order]\n",
    "label_test = label_test[rand_order]\n",
    "\n",
    "del data_test_normal\n",
    "del data_test_pneumonia\n",
    "\n",
    "# Image processing \n",
    "data_test = utils.images_crop_from_centre(data_test, percentage=0.9)\n",
    "data_test = utils.images_resize2D(data_test) \n",
    "data_test = utils.images_normalize2D(data_test)\n"
   ]
  },
  {
   "cell_type": "markdown",
   "metadata": {},
   "source": [
    "# SVM - polynomial kernel"
   ]
  },
  {
   "cell_type": "code",
   "execution_count": 5,
   "metadata": {},
   "outputs": [
    {
     "name": "stdout",
     "output_type": "stream",
     "text": [
      "(54, 12288)\n"
     ]
    },
    {
     "name": "stderr",
     "output_type": "stream",
     "text": [
      "D:\\HuiYing\\Downloads\\Anaconda\\lib\\site-packages\\sklearn\\svm\\base.py:193: FutureWarning: The default value of gamma will change from 'auto' to 'scale' in version 0.22 to account better for unscaled features. Set gamma explicitly to 'auto' or 'scale' to avoid this warning.\n",
      "  \"avoid this warning.\", FutureWarning)\n"
     ]
    },
    {
     "name": "stdout",
     "output_type": "stream",
     "text": [
      "[[27  0]\n",
      " [17 10]]\n",
      "              precision    recall  f1-score   support\n",
      "\n",
      "           0       0.61      1.00      0.76        27\n",
      "           1       1.00      0.37      0.54        27\n",
      "\n",
      "    accuracy                           0.69        54\n",
      "   macro avg       0.81      0.69      0.65        54\n",
      "weighted avg       0.81      0.69      0.65        54\n",
      "\n"
     ]
    }
   ],
   "source": [
    "print(data_train.shape)\n",
    "svclassifier = SVC(kernel='poly', degree=8)\n",
    "svclassifier.fit(data_train, label_train)\n",
    "\n",
    "\n",
    "# Make prediction\n",
    "label_pred = svclassifier.predict(data_test)\n",
    "\n",
    "print(confusion_matrix(label_test, label_pred))\n",
    "print(classification_report(label_test, label_pred))"
   ]
  },
  {
   "cell_type": "markdown",
   "metadata": {},
   "source": [
    "# SVM - Gaussian kernel"
   ]
  },
  {
   "cell_type": "code",
   "execution_count": 6,
   "metadata": {},
   "outputs": [
    {
     "name": "stderr",
     "output_type": "stream",
     "text": [
      "D:\\HuiYing\\Downloads\\Anaconda\\lib\\site-packages\\sklearn\\svm\\base.py:193: FutureWarning: The default value of gamma will change from 'auto' to 'scale' in version 0.22 to account better for unscaled features. Set gamma explicitly to 'auto' or 'scale' to avoid this warning.\n",
      "  \"avoid this warning.\", FutureWarning)\n"
     ]
    },
    {
     "name": "stdout",
     "output_type": "stream",
     "text": [
      "[[25  2]\n",
      " [ 8 19]]\n",
      "              precision    recall  f1-score   support\n",
      "\n",
      "           0       0.76      0.93      0.83        27\n",
      "           1       0.90      0.70      0.79        27\n",
      "\n",
      "    accuracy                           0.81        54\n",
      "   macro avg       0.83      0.81      0.81        54\n",
      "weighted avg       0.83      0.81      0.81        54\n",
      "\n"
     ]
    }
   ],
   "source": [
    "svclassifier = SVC(kernel='rbf')\n",
    "svclassifier.fit(data_train, label_train)\n",
    "\n",
    "label_pred = svclassifier.predict(data_test)\n",
    "\n",
    "print(confusion_matrix(label_test, label_pred))\n",
    "print(classification_report(label_test, label_pred))"
   ]
  },
  {
   "cell_type": "markdown",
   "metadata": {},
   "source": [
    "# SVM - Sigmoid kernel"
   ]
  },
  {
   "cell_type": "code",
   "execution_count": 7,
   "metadata": {},
   "outputs": [
    {
     "name": "stderr",
     "output_type": "stream",
     "text": [
      "D:\\HuiYing\\Downloads\\Anaconda\\lib\\site-packages\\sklearn\\svm\\base.py:193: FutureWarning: The default value of gamma will change from 'auto' to 'scale' in version 0.22 to account better for unscaled features. Set gamma explicitly to 'auto' or 'scale' to avoid this warning.\n",
      "  \"avoid this warning.\", FutureWarning)\n"
     ]
    },
    {
     "name": "stdout",
     "output_type": "stream",
     "text": [
      "[[25  2]\n",
      " [ 6 21]]\n",
      "              precision    recall  f1-score   support\n",
      "\n",
      "           0       0.81      0.93      0.86        27\n",
      "           1       0.91      0.78      0.84        27\n",
      "\n",
      "    accuracy                           0.85        54\n",
      "   macro avg       0.86      0.85      0.85        54\n",
      "weighted avg       0.86      0.85      0.85        54\n",
      "\n"
     ]
    }
   ],
   "source": [
    "svclassifier = SVC(kernel='sigmoid')\n",
    "svclassifier.fit(data_train, label_train)\n",
    "\n",
    "label_pred = svclassifier.predict(data_test)\n",
    "print(confusion_matrix(label_test, label_pred))\n",
    "print(classification_report(label_test, label_pred))"
   ]
  },
  {
   "cell_type": "code",
   "execution_count": null,
   "metadata": {},
   "outputs": [],
   "source": []
  },
  {
   "cell_type": "code",
   "execution_count": null,
   "metadata": {},
   "outputs": [],
   "source": []
  },
  {
   "cell_type": "code",
   "execution_count": null,
   "metadata": {},
   "outputs": [],
   "source": []
  },
  {
   "cell_type": "code",
   "execution_count": null,
   "metadata": {},
   "outputs": [],
   "source": []
  }
 ],
 "metadata": {
  "kernelspec": {
   "display_name": "Python 3",
   "language": "python",
   "name": "python3"
  },
  "language_info": {
   "codemirror_mode": {
    "name": "ipython",
    "version": 3
   },
   "file_extension": ".py",
   "mimetype": "text/x-python",
   "name": "python",
   "nbconvert_exporter": "python",
   "pygments_lexer": "ipython3",
   "version": "3.7.4"
  }
 },
 "nbformat": 4,
 "nbformat_minor": 4
}
