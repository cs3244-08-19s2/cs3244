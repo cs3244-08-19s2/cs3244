{
 "cells": [
  {
   "cell_type": "code",
   "execution_count": 1,
   "metadata": {},
   "outputs": [
    {
     "name": "stderr",
     "output_type": "stream",
     "text": [
      "Using TensorFlow backend.\n"
     ]
    }
   ],
   "source": [
    "import matplotlib.pyplot as plt\n",
    "import numpy as np\n",
    "import platform\n",
    "import os\n",
    "import imblearn\n",
    "from sklearn.utils import class_weight\n",
    "\n",
    "%matplotlib inline\n",
    "%load_ext autoreload\n",
    "%aimport utils\n",
    "%autoreload 1"
   ]
  },
  {
   "cell_type": "code",
   "execution_count": 2,
   "metadata": {},
   "outputs": [],
   "source": [
    "### CACHE FILENAMES ###\n",
    "\n",
    "train_normal_cache = \"training_normal.pickle\"\n",
    "train_pneumonia_cache = \"training_pneumonia.pickle\"\n",
    "val_normal_cache = \"validation_normal.pickle\"\n",
    "val_pneumonia_cache = \"validation_pneumonia.pickle\"\n",
    "test_normal_cache = \"testing_normal.pickle\"\n",
    "test_pneumonia_cache = \"testing_pneumonia.pickle\"\n",
    "\n",
    "### DATA SETTINGS ###\n",
    "\n",
    "pdiv = \"/\" if platform.system() == \"Windows\" else \"\\\\\"\n",
    "\n",
    "path_train_normal = \".{}chest_xray{}train{}NORMAL{}\".format(pdiv, pdiv, pdiv, pdiv)\n",
    "path_train_pneumonia = \".{}chest_xray{}train{}PNEUMONIA{}\".format(pdiv, pdiv, pdiv, pdiv)\n",
    "path_val_normal = \".{}chest_xray{}val{}NORMAL{}\".format(pdiv, pdiv, pdiv, pdiv)\n",
    "path_val_pneumonia = \".{}chest_xray{}val{}PNEUMONIA{}\".format(pdiv, pdiv, pdiv, pdiv)\n",
    "path_test_normal = \".{}chest_xray{}test{}NORMAL{}\".format(pdiv, pdiv, pdiv, pdiv)\n",
    "path_test_pneumonia = \".{}chest_xray{}test{}PNEUMONIA{}\".format(pdiv, pdiv, pdiv, pdiv)\n",
    "\n",
    "### LABELS ###\n",
    "\n",
    "normal_label = 0\n",
    "pneumonia_label = 1\n",
    "labels = sorted([normal_label, pneumonia_label])\n",
    "\n",
    "### IMAGE SETTINGS ###\n",
    "\n",
    "dimension = (64, 64, 3)\n",
    "resize_dim = dimension[:2]"
   ]
  },
  {
   "cell_type": "code",
   "execution_count": 3,
   "metadata": {},
   "outputs": [
    {
     "name": "stdout",
     "output_type": "stream",
     "text": [
      "Cache not found, loading images..\n",
      "Cache not found, loading images..\n"
     ]
    }
   ],
   "source": [
    "### LOAD TRAINING DATA AND LABELS ###\n",
    "\n",
    "data_train_normal, label_train_normal = utils.load_data(path_train_normal, train_normal_cache, normal_label)\n",
    "data_train_pneumonia, label_train_pneumonia = utils.load_data(path_train_pneumonia, train_pneumonia_cache, pneumonia_label)\n",
    "\n",
    "# Caching, disabled for now\n",
    "# utils.cache(data_train_normal, train_normal_cache)\n",
    "# utils.cache(data_train_pneumonia, train_pneumonia_cache)\n",
    "\n",
    "# Combine training images and labels\n",
    "data_train = np.concatenate((data_train_normal, data_train_pneumonia), axis=0)\n",
    "label_train = np.asarray(label_train_normal + label_train_pneumonia)\n",
    "\n",
    "# Shuffle\n",
    "rand_order = np.random.permutation(data_train.shape[0])\n",
    "data_train = data_train[rand_order]\n",
    "label_train = label_train[rand_order]\n",
    "\n",
    "del data_train_normal\n",
    "del data_train_pneumonia"
   ]
  },
  {
   "cell_type": "code",
   "execution_count": 4,
   "metadata": {},
   "outputs": [],
   "source": [
    "### IMAGE PROCESSING ###\n",
    "\n",
    "# Image cropping\n",
    "data_train = utils.images_crop_from_centre(data_train, percentage=0.9)\n",
    "\n",
    "# Image resizing\n",
    "data_train = utils.images_resize(data_train, resize_dim) \n",
    "\n",
    "# Image normalisation\n",
    "data_train = utils.images_normalize(data_train)"
   ]
  },
  {
   "cell_type": "code",
   "execution_count": 5,
   "metadata": {},
   "outputs": [],
   "source": [
    "### HANDLE IMBALANCED DATA ###\n",
    "from collections import Counter\n",
    "from imblearn.over_sampling import SMOTE, RandomOverSampler, KMeansSMOTE, BorderlineSMOTE\n",
    "\n",
    "# Scatter plot by class label\n",
    "# for label, _ in counter.items():\n",
    "#     row_ix = np.where(label_train == label)[0]\n",
    "#     plt.scatter(data_train[row_ix, 0], data_train[row_ix, 1], label=str(label))\n",
    "# plt.legend()\n",
    "# plt.show()\n",
    "\n",
    "# Transform the dataset\n",
    "# oversample = SMOTE(sampling_strategy='auto', k_neighbors=8, random_state=100)\n",
    "# oversample = KMeansSMOTE(sampling_strategy='auto', k_neighbors=8, random_state=100)\n",
    "# oversample = RandomOverSampler(random_state=42)\n",
    "oversample = BorderlineSMOTE(random_state=100)\n",
    "data_train, label_train = oversample.fit_resample(data_train.reshape(data_train.shape[0], -1), label_train)\n",
    "data_train = data_train.reshape(data_train.shape[0], dimension[0], dimension[1], dimension[2])\n",
    "\n",
    "# Scatter plot by class label\n",
    "# for label, _ in counter.items():\n",
    "#     row_ix = np.where(label_train_resample == label)[0]\n",
    "#     plt.scatter(data_train_resample[row_ix, 0], data_train_resample[row_ix, 1], label=str(label))\n",
    "# plt.legend()\n",
    "# plt.show()\n",
    "\n",
    "# Shuffle\n",
    "rand_order = np.random.permutation(data_train.shape[0])\n",
    "data_train = data_train[rand_order]\n",
    "label_train = label_train[rand_order]"
   ]
  },
  {
   "cell_type": "code",
   "execution_count": 6,
   "metadata": {},
   "outputs": [
    {
     "name": "stdout",
     "output_type": "stream",
     "text": [
      "{0: 1.0, 1: 1.0}\n"
     ]
    }
   ],
   "source": [
    "class_weights = class_weight.compute_class_weight('balanced', np.asarray(labels), label_train)\n",
    "class_weights = dict(enumerate(class_weights))\n",
    "print(class_weights)"
   ]
  },
  {
   "cell_type": "code",
   "execution_count": 10,
   "metadata": {},
   "outputs": [],
   "source": [
    "### MODEL PARAMETERS ###\n",
    "loss_func = \"mean_squared_error\"\n",
    "epochs_num = 30\n",
    "num_of_trainable_layers = 13\n",
    "model_name = \"vgg19_smote\"\n",
    "checkpoint_name = \"_best_overall\"\n",
    "intermediary_name = model_name + checkpoint_name\n",
    "ext = \".hdf5\""
   ]
  },
  {
   "cell_type": "code",
   "execution_count": 11,
   "metadata": {},
   "outputs": [
    {
     "name": "stdout",
     "output_type": "stream",
     "text": [
      "Total number of layers is 30\n",
      "Model: \"model_2\"\n",
      "_________________________________________________________________\n",
      "Layer (type)                 Output Shape              Param #   \n",
      "=================================================================\n",
      "input_2 (InputLayer)         (None, 64, 64, 3)         0         \n",
      "_________________________________________________________________\n",
      "block1_conv1 (Conv2D)        (None, 64, 64, 64)        1792      \n",
      "_________________________________________________________________\n",
      "block1_conv2 (Conv2D)        (None, 64, 64, 64)        36928     \n",
      "_________________________________________________________________\n",
      "block1_pool (MaxPooling2D)   (None, 32, 32, 64)        0         \n",
      "_________________________________________________________________\n",
      "block2_conv1 (Conv2D)        (None, 32, 32, 128)       73856     \n",
      "_________________________________________________________________\n",
      "block2_conv2 (Conv2D)        (None, 32, 32, 128)       147584    \n",
      "_________________________________________________________________\n",
      "block2_pool (MaxPooling2D)   (None, 16, 16, 128)       0         \n",
      "_________________________________________________________________\n",
      "block3_conv1 (Conv2D)        (None, 16, 16, 256)       295168    \n",
      "_________________________________________________________________\n",
      "block3_conv2 (Conv2D)        (None, 16, 16, 256)       590080    \n",
      "_________________________________________________________________\n",
      "block3_conv3 (Conv2D)        (None, 16, 16, 256)       590080    \n",
      "_________________________________________________________________\n",
      "block3_conv4 (Conv2D)        (None, 16, 16, 256)       590080    \n",
      "_________________________________________________________________\n",
      "block3_pool (MaxPooling2D)   (None, 8, 8, 256)         0         \n",
      "_________________________________________________________________\n",
      "block4_conv1 (Conv2D)        (None, 8, 8, 512)         1180160   \n",
      "_________________________________________________________________\n",
      "block4_conv2 (Conv2D)        (None, 8, 8, 512)         2359808   \n",
      "_________________________________________________________________\n",
      "block4_conv3 (Conv2D)        (None, 8, 8, 512)         2359808   \n",
      "_________________________________________________________________\n",
      "block4_conv4 (Conv2D)        (None, 8, 8, 512)         2359808   \n",
      "_________________________________________________________________\n",
      "block4_pool (MaxPooling2D)   (None, 4, 4, 512)         0         \n",
      "_________________________________________________________________\n",
      "block5_conv1 (Conv2D)        (None, 4, 4, 512)         2359808   \n",
      "_________________________________________________________________\n",
      "block5_conv2 (Conv2D)        (None, 4, 4, 512)         2359808   \n",
      "_________________________________________________________________\n",
      "block5_conv3 (Conv2D)        (None, 4, 4, 512)         2359808   \n",
      "_________________________________________________________________\n",
      "block5_conv4 (Conv2D)        (None, 4, 4, 512)         2359808   \n",
      "_________________________________________________________________\n",
      "block5_pool (MaxPooling2D)   (None, 2, 2, 512)         0         \n",
      "_________________________________________________________________\n",
      "global_max_pooling2d_2 (Glob (None, 512)               0         \n",
      "_________________________________________________________________\n",
      "gaussian_noise_2 (GaussianNo (None, 512)               0         \n",
      "_________________________________________________________________\n",
      "dropout_4 (Dropout)          (None, 512)               0         \n",
      "_________________________________________________________________\n",
      "dense_4 (Dense)              (None, 32)                16416     \n",
      "_________________________________________________________________\n",
      "dropout_5 (Dropout)          (None, 32)                0         \n",
      "_________________________________________________________________\n",
      "dense_5 (Dense)              (None, 16)                528       \n",
      "_________________________________________________________________\n",
      "dropout_6 (Dropout)          (None, 16)                0         \n",
      "_________________________________________________________________\n",
      "dense_6 (Dense)              (None, 1)                 17        \n",
      "=================================================================\n",
      "Total params: 20,041,345\n",
      "Trainable params: 9,456,193\n",
      "Non-trainable params: 10,585,152\n",
      "_________________________________________________________________\n"
     ]
    }
   ],
   "source": [
    "### MODEL CREATION ###\n",
    "from keras.applications.mobilenet_v2 import MobileNetV2\n",
    "from keras.applications.densenet import DenseNet121, DenseNet169, DenseNet201\n",
    "from keras.applications.resnet_v2 import ResNet50V2, ResNet101V2, ResNet152V2\n",
    "from keras.applications.vgg16 import VGG16\n",
    "from keras.applications.vgg19 import VGG19\n",
    "from keras.layers import Dense, GlobalMaxPooling2D, Conv2D, Dropout, GaussianNoise\n",
    "from keras.models import Model, load_model\n",
    "from keras.utils import print_summary\n",
    "from keras.optimizers import SGD\n",
    "from keras.callbacks import EarlyStopping, ModelCheckpoint\n",
    "\n",
    "# Set model\n",
    "# base_model = MobileNetV2(weights='imagenet', include_top=False, input_shape=dimension, pooling='max')\n",
    "# base_model = DenseNet121(weights='imagenet', include_top=False, input_shape=dimension, pooling='max')\n",
    "# base_model = DenseNet169(weights='imagenet', include_top=False, input_shape=dimension, pooling='max')\n",
    "# base_model = DenseNet201(weights='imagenet', include_top=False, input_shape=dimension, pooling='max')\n",
    "# base_model = ResNet50V2(weights='imagenet', include_top=False, input_shape=dimension, pooling='max')\n",
    "# base_model = ResNet101V2(weights='imagenet', include_top=False, input_shape=dimension, pooling='max')\n",
    "# base_model = ResNet152V2(weights='imagenet', include_top=False, input_shape=dimension, pooling='max')\n",
    "# base_model = VGG16(weights='imagenet', include_top=False, input_shape=dimension, pooling='max')\n",
    "base_model = VGG19(weights='imagenet', include_top=False, input_shape=dimension, pooling='max')\n",
    "\n",
    "model = base_model.output\n",
    "model = GaussianNoise(0.4)(model)\n",
    "model = Dropout(0.5)(model)\n",
    "model = Dense(32, activation='relu')(model)\n",
    "model = Dropout(0.5)(model)\n",
    "model = Dense(16, activation='relu')(model)\n",
    "model = Dropout(0.3)(model)\n",
    "preds = Dense(units=1, activation='sigmoid')(model)\n",
    "model = Model(inputs=base_model.input, outputs=preds)\n",
    "\n",
    "# Set trainable layers\n",
    "for layer in model.layers[:-num_of_trainable_layers]:\n",
    "    layer.trainable = False\n",
    "for layer in model.layers[-num_of_trainable_layers:]:\n",
    "    layer.trainable = True\n",
    "\n",
    "# Callbacks\n",
    "es_val_loss = EarlyStopping(monitor='val_loss', mode='min', verbose=1, patience=4)\n",
    "es_val_acc = EarlyStopping(monitor='val_accuracy', mode='max', verbose=1, patience=4)\n",
    "checkpointer = ModelCheckpoint(intermediary_name + ext, verbose=1, save_best_only=True)\n",
    "callbacks_list = [es_val_loss, es_val_acc, checkpointer]\n",
    "\n",
    "# Define optimiser, loss function, and metrics to track\n",
    "opt = SGD(lr=0.01)\n",
    "model.compile(optimizer=opt, loss=loss_func, metrics=['accuracy'])\n",
    "\n",
    "print(\"Total number of layers is {}\".format(len(model.layers)))\n",
    "print_summary(model)"
   ]
  },
  {
   "cell_type": "code",
   "execution_count": 12,
   "metadata": {},
   "outputs": [
    {
     "name": "stdout",
     "output_type": "stream",
     "text": [
      "Train on 6975 samples, validate on 775 samples\n",
      "Epoch 1/30\n",
      "6975/6975 [==============================] - 216s 31ms/step - loss: 0.1795 - accuracy: 0.7267 - val_loss: 0.0640 - val_accuracy: 0.9174\n",
      "\n",
      "Epoch 00001: val_loss improved from inf to 0.06405, saving model to vgg19_smote_best_overall.hdf5\n",
      "Epoch 2/30\n",
      "6975/6975 [==============================] - 228s 33ms/step - loss: 0.1046 - accuracy: 0.8602 - val_loss: 0.0432 - val_accuracy: 0.9394\n",
      "\n",
      "Epoch 00002: val_loss improved from 0.06405 to 0.04324, saving model to vgg19_smote_best_overall.hdf5\n",
      "Epoch 3/30\n",
      "6975/6975 [==============================] - 209s 30ms/step - loss: 0.0766 - accuracy: 0.8982 - val_loss: 0.0463 - val_accuracy: 0.9432\n",
      "\n",
      "Epoch 00003: val_loss did not improve from 0.04324\n",
      "Epoch 4/30\n",
      "6975/6975 [==============================] - 195s 28ms/step - loss: 0.0653 - accuracy: 0.9161 - val_loss: 0.0312 - val_accuracy: 0.9652\n",
      "\n",
      "Epoch 00004: val_loss improved from 0.04324 to 0.03116, saving model to vgg19_smote_best_overall.hdf5\n",
      "Epoch 5/30\n",
      "6975/6975 [==============================] - 195s 28ms/step - loss: 0.0546 - accuracy: 0.9299 - val_loss: 0.0258 - val_accuracy: 0.9703\n",
      "\n",
      "Epoch 00005: val_loss improved from 0.03116 to 0.02584, saving model to vgg19_smote_best_overall.hdf5\n",
      "Epoch 6/30\n",
      "6975/6975 [==============================] - 194s 28ms/step - loss: 0.0485 - accuracy: 0.9386 - val_loss: 0.0243 - val_accuracy: 0.9716\n",
      "\n",
      "Epoch 00006: val_loss improved from 0.02584 to 0.02430, saving model to vgg19_smote_best_overall.hdf5\n",
      "Epoch 7/30\n",
      "6975/6975 [==============================] - 194s 28ms/step - loss: 0.0409 - accuracy: 0.9505 - val_loss: 0.0213 - val_accuracy: 0.9742\n",
      "\n",
      "Epoch 00007: val_loss improved from 0.02430 to 0.02133, saving model to vgg19_smote_best_overall.hdf5\n",
      "Epoch 8/30\n",
      "6975/6975 [==============================] - 193s 28ms/step - loss: 0.0357 - accuracy: 0.9577 - val_loss: 0.0224 - val_accuracy: 0.9742\n",
      "\n",
      "Epoch 00008: val_loss did not improve from 0.02133\n",
      "Epoch 9/30\n",
      "6975/6975 [==============================] - 196s 28ms/step - loss: 0.0396 - accuracy: 0.9508 - val_loss: 0.0182 - val_accuracy: 0.9794\n",
      "\n",
      "Epoch 00009: val_loss improved from 0.02133 to 0.01819, saving model to vgg19_smote_best_overall.hdf5\n",
      "Epoch 10/30\n",
      "6975/6975 [==============================] - 195s 28ms/step - loss: 0.0313 - accuracy: 0.9601 - val_loss: 0.0186 - val_accuracy: 0.9781\n",
      "\n",
      "Epoch 00010: val_loss did not improve from 0.01819\n",
      "Epoch 11/30\n",
      "6975/6975 [==============================] - 195s 28ms/step - loss: 0.0307 - accuracy: 0.9627 - val_loss: 0.0252 - val_accuracy: 0.9703\n",
      "\n",
      "Epoch 00011: val_loss did not improve from 0.01819\n",
      "Epoch 12/30\n",
      "6975/6975 [==============================] - 196s 28ms/step - loss: 0.0309 - accuracy: 0.9642 - val_loss: 0.0198 - val_accuracy: 0.9755\n",
      "\n",
      "Epoch 00012: val_loss did not improve from 0.01819\n",
      "Epoch 13/30\n",
      "6975/6975 [==============================] - 194s 28ms/step - loss: 0.0265 - accuracy: 0.9689 - val_loss: 0.1720 - val_accuracy: 0.7923\n",
      "\n",
      "Epoch 00013: val_loss did not improve from 0.01819\n",
      "Epoch 00013: early stopping\n",
      "Epoch 00013: early stopping\n"
     ]
    }
   ],
   "source": [
    "# Model training\n",
    "history = model.fit(data_train, label_train, epochs=epochs_num, callbacks=callbacks_list, validation_split=0.1, verbose=1, class_weight=class_weights)"
   ]
  },
  {
   "cell_type": "code",
   "execution_count": 13,
   "metadata": {},
   "outputs": [],
   "source": [
    "del data_train"
   ]
  },
  {
   "cell_type": "code",
   "execution_count": 14,
   "metadata": {},
   "outputs": [
    {
     "name": "stdout",
     "output_type": "stream",
     "text": [
      "Cache not found, loading images..\n",
      "Cache not found, loading images..\n"
     ]
    }
   ],
   "source": [
    "### LOAD VALIDATION DATA AND LABELS ###\n",
    "\n",
    "data_val_normal, label_val_normal = utils.load_data(path_val_normal, val_normal_cache, normal_label)\n",
    "data_val_pneumonia, label_val_pneumonia = utils.load_data(path_val_pneumonia, val_pneumonia_cache, pneumonia_label)\n",
    "\n",
    "# Caching, disabled for now\n",
    "# utils.cache(data_val_normal, val_normal_cache)\n",
    "# utils.cache(data_val_pneumonia, val_pneumonia_cache)\n",
    "\n",
    "# Combine validation images and labels\n",
    "data_val = np.concatenate((data_val_normal, data_val_pneumonia), axis=0)\n",
    "label_val = np.asarray(label_val_normal + label_val_pneumonia)\n",
    "\n",
    "# Shuffle\n",
    "rand_order = np.random.permutation(data_val.shape[0])\n",
    "data_val = data_val[rand_order]\n",
    "label_val = label_val[rand_order]\n",
    "\n",
    "del data_val_normal\n",
    "del data_val_pneumonia"
   ]
  },
  {
   "cell_type": "code",
   "execution_count": 15,
   "metadata": {},
   "outputs": [
    {
     "name": "stdout",
     "output_type": "stream",
     "text": [
      "Cache not found, loading images..\n",
      "Cache not found, loading images..\n"
     ]
    }
   ],
   "source": [
    "### LOAD TESTING DATA AND LABELS ###\n",
    "\n",
    "data_test_normal, label_test_normal = utils.load_data(path_test_normal, test_normal_cache, normal_label)\n",
    "data_test_pneumonia, label_test_pneumonia = utils.load_data(path_test_pneumonia, test_pneumonia_cache, pneumonia_label)\n",
    "\n",
    "# Caching, disabled for now\n",
    "# utils.cache(data_test_normal, test_normal_cache)\n",
    "# utils.cache(data_test_pneumonia, test_pneumonia_cache)\n",
    "\n",
    "# Combine training images and labels\n",
    "data_test = np.concatenate((data_test_normal, data_test_pneumonia), axis=0)\n",
    "label_test = np.asarray(label_test_normal + label_test_pneumonia)\n",
    "\n",
    "# Shuffle\n",
    "rand_order = np.random.permutation(data_test.shape[0])\n",
    "data_test = data_test[rand_order]\n",
    "label_test = label_test[rand_order]\n",
    "\n",
    "del data_test_normal\n",
    "del data_test_pneumonia"
   ]
  },
  {
   "cell_type": "code",
   "execution_count": 16,
   "metadata": {},
   "outputs": [],
   "source": [
    "# Image processing for both\n",
    "data_val = utils.images_crop_from_centre(data_val, percentage=0.9)\n",
    "data_val = utils.images_resize(data_val, resize_dim) \n",
    "data_val = utils.images_normalize(data_val)\n",
    "\n",
    "data_test = utils.images_crop_from_centre(data_test, percentage=0.9)\n",
    "data_test = utils.images_resize(data_test, resize_dim) \n",
    "data_test = utils.images_normalize(data_test)"
   ]
  },
  {
   "cell_type": "code",
   "execution_count": 17,
   "metadata": {},
   "outputs": [],
   "source": [
    "# Delete existing model\n",
    "del model\n",
    "\n",
    "# Load best version of model\n",
    "model = load_model(intermediary_name + ext)"
   ]
  },
  {
   "cell_type": "code",
   "execution_count": 18,
   "metadata": {},
   "outputs": [
    {
     "name": "stdout",
     "output_type": "stream",
     "text": [
      "16/16 [==============================] - 0s 15ms/step\n",
      "624/624 [==============================] - 9s 15ms/step\n",
      "0.06700697541236877 0.9375\n",
      "0.15467617890009513 0.8253205418586731\n"
     ]
    }
   ],
   "source": [
    "# Validation and testing\n",
    "val_loss, val_accuracy = model.evaluate(data_val, label_val)\n",
    "test_loss, test_accuracy = model.evaluate(data_test, label_test)\n",
    "\n",
    "print(val_loss, val_accuracy)\n",
    "print(test_loss, test_accuracy)"
   ]
  },
  {
   "cell_type": "code",
   "execution_count": 19,
   "metadata": {},
   "outputs": [],
   "source": [
    "del data_val\n",
    "del data_test"
   ]
  },
  {
   "cell_type": "code",
   "execution_count": 20,
   "metadata": {},
   "outputs": [],
   "source": [
    "# Save the model for usage\n",
    "model.save(model_name + \"_\" + str(int(test_accuracy * 100)) + ext)\n",
    "\n",
    "# Delete intermediary model\n",
    "if os.path.exists(intermediary_name + ext):\n",
    "    os.remove(intermediary_name + ext)"
   ]
  },
  {
   "cell_type": "code",
   "execution_count": 21,
   "metadata": {},
   "outputs": [
    {
     "data": {
      "image/png": "[encoded data removed]",
      "text/plain": [
       "<Figure size 432x288 with 1 Axes>"
      ]
     },
     "metadata": {
      "needs_background": "light"
     },
     "output_type": "display_data"
    },
    {
     "data": {
      "image/png": "[encoded data removed]",
      "text/plain": [
       "<Figure size 432x288 with 1 Axes>"
      ]
     },
     "metadata": {
      "needs_background": "light"
     },
     "output_type": "display_data"
    }
   ],
   "source": [
    "### VISUALISATION ###\n",
    "\n",
    "# Plot training & validation accuracy values\n",
    "plt.plot(history.history['accuracy'])\n",
    "plt.plot(history.history['val_accuracy'])\n",
    "plt.title('Model accuracy')\n",
    "plt.ylabel('Accuracy')\n",
    "plt.xlabel('Epoch')\n",
    "plt.legend(['Train', 'Test'], loc='upper left')\n",
    "plt.show()\n",
    "\n",
    "# Plot training & validation loss values\n",
    "plt.plot(history.history['loss'])\n",
    "plt.plot(history.history['val_loss'])\n",
    "plt.title('Model loss')\n",
    "plt.ylabel('Loss')\n",
    "plt.xlabel('Epoch')\n",
    "plt.legend(['Train', 'Test'], loc='upper left')\n",
    "plt.show()"
   ]
  },
  {
   "cell_type": "code",
   "execution_count": null,
   "metadata": {},
   "outputs": [],
   "source": []
  }
 ],
 "metadata": {
  "kernelspec": {
   "display_name": "Python 3",
   "language": "python",
   "name": "python3"
  },
  "language_info": {
   "codemirror_mode": {
    "name": "ipython",
    "version": 3
   },
   "file_extension": ".py",
   "mimetype": "text/x-python",
   "name": "python",
   "nbconvert_exporter": "python",
   "pygments_lexer": "ipython3",
   "version": "3.6.10"
  }
 },
 "nbformat": 4,
 "nbformat_minor": 4
}
