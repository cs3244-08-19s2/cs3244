{
 "cells": [
  {
   "cell_type": "code",
<<<<<<< Updated upstream:PneumoniaDetector_ModelTrainer.ipynb
   "execution_count": 1,
||||||| merged common ancestors
   "execution_count": null,
=======
   "execution_count": 2,
>>>>>>> Stashed changes:PneumoniaDetector_DenseCNN.ipynb
   "metadata": {},
<<<<<<< Updated upstream:PneumoniaDetector_ModelTrainer.ipynb
   "outputs": [
    {
     "name": "stderr",
     "output_type": "stream",
     "text": [
      "Using TensorFlow backend.\n"
     ]
    }
   ],
||||||| merged common ancestors
   "outputs": [],
=======
   "outputs": [
    {
     "name": "stdout",
     "output_type": "stream",
     "text": [
      "The autoreload extension is already loaded. To reload it, use:\n",
      "  %reload_ext autoreload\n"
     ]
    }
   ],
>>>>>>> Stashed changes:PneumoniaDetector_DenseCNN.ipynb
   "source": [
    "import matplotlib.pyplot as plt\n",
    "import numpy as np\n",
    "import platform\n",
    "from keras.applications.xception import Xception\n",
    "from keras.layers import Dense, GlobalMaxPooling2D\n",
    "from keras.models import Model\n",
    "\n",
    "%matplotlib inline\n",
    "%load_ext autoreload\n",
    "%aimport utils\n",
    "%autoreload 1"
   ]
  },
  {
   "cell_type": "code",
<<<<<<< Updated upstream:PneumoniaDetector_ModelTrainer.ipynb
   "execution_count": 2,
||||||| merged common ancestors
   "execution_count": null,
=======
   "execution_count": 3,
>>>>>>> Stashed changes:PneumoniaDetector_DenseCNN.ipynb
   "metadata": {},
   "outputs": [],
   "source": [
    "### MODEL PARAMETERS ###\n",
    "optimizer_func = \"adam\"\n",
    "loss_func = \"binary_crossentropy\"\n",
    "epochs_num = 3\n",
    "num_of_trainable_layers = 20\n",
    "model_name = \"pneumonia_detector.model\"\n",
    "\n",
    "### CACHE FILENAMES ###\n",
    "train_normal_cache = \"training_normal.pickle\"\n",
    "train_pneumonia_cache = \"training_pneumonia.pickle\"\n",
    "val_normal_cache = \"validation_normal.pickle\"\n",
    "val_pneumonia_cache = \"validation_pneumonia.pickle\"\n",
    "test_normal_cache = \"testing_normal.pickle\"\n",
    "test_pneumonia_cache = \"testing_pneumonia.pickle\""
   ]
  },
  {
   "cell_type": "code",
   "execution_count": 3,
   "metadata": {},
   "outputs": [],
   "source": [
    "### SETTINGS ###\n",
    "\n",
    "pdiv = \"/\" if platform.system() == \"Windows\" else \"\\\\\"\n",
    "\n",
    "# Data paths\n",
    "path_train_normal = \".{}chest_xray{}train{}NORMAL{}\".format(pdiv, pdiv, pdiv, pdiv)\n",
    "path_train_pneumonia = \".{}chest_xray{}train{}PNEUMONIA{}\".format(pdiv, pdiv, pdiv, pdiv)\n",
    "path_val_normal = \".{}chest_xray{}val{}NORMAL{}\".format(pdiv, pdiv, pdiv, pdiv)\n",
    "path_val_pneumonia = \".{}chest_xray{}val{}PNEUMONIA{}\".format(pdiv, pdiv, pdiv, pdiv)\n",
    "path_test_normal = \".{}chest_xray{}test{}NORMAL{}\".format(pdiv, pdiv, pdiv, pdiv)\n",
    "path_test_pneumonia = \".{}chest_xray{}test{}PNEUMONIA{}\".format(pdiv, pdiv, pdiv, pdiv)\n",
    "\n",
    "# Labels\n",
    "normal_label = 0\n",
    "pneumonia_label = 1\n",
    "\n",
    "labels = sorted([normal_label, pneumonia_label])"
   ]
  },
  {
   "cell_type": "code",
   "execution_count": 4,
   "metadata": {},
<<<<<<< Updated upstream:PneumoniaDetector_ModelTrainer.ipynb
   "outputs": [
    {
     "name": "stdout",
     "output_type": "stream",
     "text": [
      "Cache not found, loading images..\n",
      "Cache not found, loading images..\n"
     ]
    }
   ],
||||||| merged common ancestors
   "outputs": [],
=======
   "outputs": [
    {
     "name": "stdout",
     "output_type": "stream",
     "text": [
      "Cache not found, loading images..\n"
     ]
    },
    {
     "ename": "AssertionError",
     "evalue": "",
     "output_type": "error",
     "traceback": [
      "\u001b[1;31m---------------------------------------------------------------------------\u001b[0m",
      "\u001b[1;31mAssertionError\u001b[0m                            Traceback (most recent call last)",
      "\u001b[1;32m<ipython-input-4-69ec8e63227d>\u001b[0m in \u001b[0;36m<module>\u001b[1;34m\u001b[0m\n\u001b[0;32m      1\u001b[0m \u001b[1;31m### LOAD TRAINING DATA AND LABELS ###\u001b[0m\u001b[1;33m\u001b[0m\u001b[1;33m\u001b[0m\u001b[1;33m\u001b[0m\u001b[0m\n\u001b[0;32m      2\u001b[0m \u001b[1;33m\u001b[0m\u001b[0m\n\u001b[1;32m----> 3\u001b[1;33m \u001b[0mdata_train_normal\u001b[0m\u001b[1;33m,\u001b[0m \u001b[0mlabel_train_normal\u001b[0m \u001b[1;33m=\u001b[0m \u001b[0mutils\u001b[0m\u001b[1;33m.\u001b[0m\u001b[0mload_data\u001b[0m\u001b[1;33m(\u001b[0m\u001b[0mpath_train_normal\u001b[0m\u001b[1;33m,\u001b[0m \u001b[0mtrain_normal_cache\u001b[0m\u001b[1;33m,\u001b[0m \u001b[0mnormal_label\u001b[0m\u001b[1;33m)\u001b[0m\u001b[1;33m\u001b[0m\u001b[1;33m\u001b[0m\u001b[0m\n\u001b[0m\u001b[0;32m      4\u001b[0m \u001b[0mdata_train_pneumonia\u001b[0m\u001b[1;33m,\u001b[0m \u001b[0mlabel_train_pneumonia\u001b[0m \u001b[1;33m=\u001b[0m \u001b[0mutils\u001b[0m\u001b[1;33m.\u001b[0m\u001b[0mload_data\u001b[0m\u001b[1;33m(\u001b[0m\u001b[0mpath_train_pneumonia\u001b[0m\u001b[1;33m,\u001b[0m \u001b[0mtrain_pneumonia_cache\u001b[0m\u001b[1;33m,\u001b[0m \u001b[0mpneumonia_label\u001b[0m\u001b[1;33m)\u001b[0m\u001b[1;33m\u001b[0m\u001b[1;33m\u001b[0m\u001b[0m\n\u001b[0;32m      5\u001b[0m \u001b[1;33m\u001b[0m\u001b[0m\n",
      "\u001b[1;32m~\\cs3244\\utils.py\u001b[0m in \u001b[0;36mload_data\u001b[1;34m(datapath, cache_name, label_name)\u001b[0m\n\u001b[0;32m    112\u001b[0m     \u001b[1;32melse\u001b[0m \u001b[1;33m:\u001b[0m\u001b[1;33m\u001b[0m\u001b[1;33m\u001b[0m\u001b[0m\n\u001b[0;32m    113\u001b[0m         \u001b[0mprint\u001b[0m\u001b[1;33m(\u001b[0m\u001b[1;34m\"Cache not found, loading images..\"\u001b[0m\u001b[1;33m)\u001b[0m\u001b[1;33m\u001b[0m\u001b[1;33m\u001b[0m\u001b[0m\n\u001b[1;32m--> 114\u001b[1;33m         \u001b[0mimgs\u001b[0m \u001b[1;33m=\u001b[0m \u001b[0mload_all_imgs_within_dir\u001b[0m\u001b[1;33m(\u001b[0m\u001b[0mdatapath\u001b[0m\u001b[1;33m)\u001b[0m\u001b[1;33m\u001b[0m\u001b[1;33m\u001b[0m\u001b[0m\n\u001b[0m\u001b[0;32m    115\u001b[0m \u001b[1;33m\u001b[0m\u001b[0m\n\u001b[0;32m    116\u001b[0m     \u001b[0mlabels\u001b[0m \u001b[1;33m=\u001b[0m \u001b[0mcreate_labels\u001b[0m\u001b[1;33m(\u001b[0m\u001b[0mlen\u001b[0m\u001b[1;33m(\u001b[0m\u001b[0mimgs\u001b[0m\u001b[1;33m)\u001b[0m\u001b[1;33m,\u001b[0m \u001b[0mlabel_name\u001b[0m\u001b[1;33m)\u001b[0m\u001b[1;33m\u001b[0m\u001b[1;33m\u001b[0m\u001b[0m\n",
      "\u001b[1;32m~\\cs3244\\utils.py\u001b[0m in \u001b[0;36mload_all_imgs_within_dir\u001b[1;34m(directory)\u001b[0m\n\u001b[0;32m     56\u001b[0m         \u001b[0mnumpy\u001b[0m\u001b[1;33m.\u001b[0m\u001b[0marray\u001b[0m \u001b[0mof\u001b[0m \u001b[0mimg\u001b[0m\u001b[1;33m:\u001b[0m \u001b[0marray\u001b[0m \u001b[0mof\u001b[0m \u001b[0mimages\u001b[0m\u001b[1;33m\u001b[0m\u001b[1;33m\u001b[0m\u001b[0m\n\u001b[0;32m     57\u001b[0m     \"\"\"\n\u001b[1;32m---> 58\u001b[1;33m     \u001b[0mpaths\u001b[0m \u001b[1;33m=\u001b[0m \u001b[0mextract_image_paths\u001b[0m\u001b[1;33m(\u001b[0m\u001b[0mdirectory\u001b[0m\u001b[1;33m)\u001b[0m\u001b[1;33m\u001b[0m\u001b[1;33m\u001b[0m\u001b[0m\n\u001b[0m\u001b[0;32m     59\u001b[0m \u001b[1;33m\u001b[0m\u001b[0m\n\u001b[0;32m     60\u001b[0m     \u001b[0mimgs\u001b[0m \u001b[1;33m=\u001b[0m \u001b[1;33m[\u001b[0m\u001b[1;33m]\u001b[0m\u001b[1;33m\u001b[0m\u001b[1;33m\u001b[0m\u001b[0m\n",
      "\u001b[1;32m~\\cs3244\\utils.py\u001b[0m in \u001b[0;36mextract_image_paths\u001b[1;34m(directory)\u001b[0m\n\u001b[0;32m     18\u001b[0m \u001b[1;33m\u001b[0m\u001b[0m\n\u001b[0;32m     19\u001b[0m     \"\"\"\n\u001b[1;32m---> 20\u001b[1;33m     \u001b[1;32massert\u001b[0m \u001b[0mos\u001b[0m\u001b[1;33m.\u001b[0m\u001b[0mpath\u001b[0m\u001b[1;33m.\u001b[0m\u001b[0mexists\u001b[0m\u001b[1;33m(\u001b[0m\u001b[0mdirectory\u001b[0m\u001b[1;33m)\u001b[0m\u001b[1;33m\u001b[0m\u001b[1;33m\u001b[0m\u001b[0m\n\u001b[0m\u001b[0;32m     21\u001b[0m \u001b[1;33m\u001b[0m\u001b[0m\n\u001b[0;32m     22\u001b[0m     \u001b[0mdir_separator\u001b[0m \u001b[1;33m=\u001b[0m \u001b[1;34m\"/\"\u001b[0m \u001b[1;32mif\u001b[0m \u001b[0mplatform\u001b[0m\u001b[1;33m.\u001b[0m\u001b[0msystem\u001b[0m\u001b[1;33m(\u001b[0m\u001b[1;33m)\u001b[0m \u001b[1;33m==\u001b[0m \u001b[1;34m\"Windows\"\u001b[0m \u001b[1;32melse\u001b[0m \u001b[1;34m\"\\\\\"\u001b[0m\u001b[1;33m\u001b[0m\u001b[1;33m\u001b[0m\u001b[0m\n",
      "\u001b[1;31mAssertionError\u001b[0m: "
     ]
    }
   ],
>>>>>>> Stashed changes:PneumoniaDetector_DenseCNN.ipynb
   "source": [
    "### LOAD TRAINING DATA AND LABELS ###\n",
    "\n",
    "data_train_normal, label_train_normal = utils.load_data(path_train_normal, train_normal_cache, normal_label)\n",
    "data_train_pneumonia, label_train_pneumonia = utils.load_data(path_train_pneumonia, train_pneumonia_cache, pneumonia_label)\n",
    "\n",
    "# Caching, disabled for now\n",
    "# utils.cache(data_train_normal, train_normal_cache)\n",
    "# utils.cache(data_train_pneumonia, train_pneumonia_cache)\n",
    "\n",
    "# Combine training images and labels\n",
    "data_train = np.concatenate((data_train_normal, data_train_pneumonia), axis=0)\n",
    "label_train = np.asarray(label_train_normal + label_train_pneumonia)\n",
    "\n",
    "# Shuffle\n",
    "rand_order = np.random.permutation(data_train.shape[0])\n",
    "data_train = data_train[rand_order]\n",
    "label_train = label_train[rand_order]\n",
    "\n",
    "del data_train_normal\n",
    "del data_train_pneumonia"
   ]
  },
  {
   "cell_type": "code",
   "execution_count": 5,
   "metadata": {},
   "outputs": [],
   "source": [
    "### IMAGE PROCESSING ###\n",
    "\n",
    "# Image cropping\n",
    "data_train = utils.images_crop_from_centre(data_train, percentage=0.9)\n",
    "\n",
    "# Image resizing - 299,299 is the size accepted by Xception Model\n",
    "data_train = utils.images_resize(data_train, (299, 299)) \n",
    "\n",
    "# Image normalisation\n",
    "data_train = utils.images_normalize(data_train)"
   ]
  },
  {
   "cell_type": "code",
   "execution_count": 6,
   "metadata": {},
   "outputs": [],
   "source": [
    "### MODEL CREATION ###\n",
    "from keras.layers import Reshape, Flatten\n",
    "\n",
    "# Set model\n",
    "base_model = Xception(weights='imagenet', include_top=False, input_shape=(299,299,3))\n",
    "model = base_model.output\n",
    "model = GlobalMaxPooling2D()(model)\n",
    "model = Dense(1024, activation='relu')(model)\n",
    "model = Dense(1024, activation='relu')(model)\n",
    "preds = Dense(units=1, activation='sigmoid')(model)\n",
    "model = Model(inputs=base_model.input, outputs=preds)\n",
    "\n",
    "# Set trainable layers\n",
    "for layer in model.layers[:-num_of_trainable_layers]:\n",
    "    layer.trainable = False\n",
    "for layer in model.layers[-num_of_trainable_layers:]:\n",
    "    layer.trainable = True\n",
    "    \n",
    "# Define optimiser, loss function, and metrics to track\n",
    "model.compile(optimizer=optimizer_func, loss=loss_func, metrics=['accuracy'])"
   ]
  },
  {
   "cell_type": "code",
   "execution_count": 7,
   "metadata": {},
   "outputs": [
    {
     "name": "stdout",
     "output_type": "stream",
     "text": [
      "Epoch 1/3\n",
      "5216/5216 [==============================] - 1583s 304ms/step - loss: 0.2714 - accuracy: 0.9178\n",
      "Epoch 2/3\n",
      "5216/5216 [==============================] - 1576s 302ms/step - loss: 0.0701 - accuracy: 0.9783\n",
      "Epoch 3/3\n",
      "5216/5216 [==============================] - 1541s 295ms/step - loss: 0.0497 - accuracy: 0.9852\n"
     ]
    },
    {
     "data": {
      "text/plain": [
       "<keras.callbacks.callbacks.History at 0x16300d11908>"
      ]
     },
     "execution_count": 7,
     "metadata": {},
     "output_type": "execute_result"
    }
   ],
   "source": [
    "# Model training\n",
    "model.fit(data_train, label_train, epochs=epochs_num)"
   ]
  },
  {
   "cell_type": "code",
   "execution_count": 8,
   "metadata": {},
   "outputs": [],
   "source": [
    "del data_train"
   ]
  },
  {
   "cell_type": "code",
   "execution_count": 12,
   "metadata": {},
   "outputs": [],
   "source": [
    "# Save the model for usage\n",
    "model.save(model_name)"
   ]
  },
  {
   "cell_type": "code",
   "execution_count": 9,
   "metadata": {},
   "outputs": [
    {
     "name": "stdout",
     "output_type": "stream",
     "text": [
      "Cache not found, loading images..\n",
      "Cache not found, loading images..\n"
     ]
    }
   ],
   "source": [
    "### LOAD VALIDATION DATA AND LABELS ###\n",
    "\n",
    "data_val_normal, label_val_normal = utils.load_data(path_val_normal, val_normal_cache, normal_label)\n",
    "data_val_pneumonia, label_val_pneumonia = utils.load_data(path_val_pneumonia, val_pneumonia_cache, pneumonia_label)\n",
    "\n",
    "# Caching, disabled for now\n",
    "# utils.cache(data_val_normal, val_normal_cache)\n",
    "# utils.cache(data_val_pneumonia, val_pneumonia_cache)\n",
    "\n",
    "# Combine validation images and labels\n",
    "data_val = np.concatenate((data_val_normal, data_val_pneumonia), axis=0)\n",
    "label_val = np.asarray(label_val_normal + label_val_pneumonia)\n",
    "\n",
    "# Shuffle\n",
    "rand_order = np.random.permutation(data_val.shape[0])\n",
    "data_val = data_val[rand_order]\n",
    "label_val = label_val[rand_order]\n",
    "\n",
    "del data_val_normal\n",
    "del data_val_pneumonia"
   ]
  },
  {
   "cell_type": "code",
   "execution_count": 13,
   "metadata": {},
   "outputs": [
    {
     "name": "stdout",
     "output_type": "stream",
     "text": [
      "Cache not found, loading images..\n",
      "Cache not found, loading images..\n"
     ]
    }
   ],
   "source": [
    "### LOAD TESTING DATA AND LABELS ###\n",
    "\n",
    "data_test_normal, label_test_normal = utils.load_data(path_test_normal, test_normal_cache, normal_label)\n",
    "data_test_pneumonia, label_test_pneumonia = utils.load_data(path_test_pneumonia, test_pneumonia_cache, pneumonia_label)\n",
    "\n",
    "# Caching, disabled for now\n",
    "# utils.cache(data_test_normal, test_normal_cache)\n",
    "# utils.cache(data_test_pneumonia, test_pneumonia_cache)\n",
    "\n",
    "# Combine training images and labels\n",
    "data_test = np.concatenate((data_test_normal, data_test_pneumonia), axis=0)\n",
    "label_test = np.asarray(label_test_normal + label_test_pneumonia)\n",
    "\n",
    "# Shuffle\n",
    "rand_order = np.random.permutation(data_test.shape[0])\n",
    "data_test = data_test[rand_order]\n",
    "label_test = label_test[rand_order]\n",
    "\n",
    "del data_test_normal\n",
    "del data_test_pneumonia"
   ]
  },
  {
   "cell_type": "code",
   "execution_count": 15,
   "metadata": {},
   "outputs": [],
   "source": [
    "# Resizing for validation and testing data\n",
    "data_val = utils.images_resize(data_val, (299, 299))\n",
    "data_test = utils.images_resize(data_test, (299, 299)) "
   ]
  },
  {
   "cell_type": "code",
   "execution_count": 16,
   "metadata": {},
   "outputs": [
    {
     "name": "stdout",
     "output_type": "stream",
     "text": [
      "16/16 [==============================] - 4s 248ms/step\n",
      "624/624 [==============================] - 162s 259ms/step\n"
     ]
    }
   ],
   "source": [
    "# Validation and testing\n",
    "val_loss, val_accuracy = model.evaluate(data_val, label_val)\n",
    "test_loss, test_accuracy = model.evaluate(data_test, label_test)"
   ]
  },
  {
   "cell_type": "code",
   "execution_count": 17,
   "metadata": {},
   "outputs": [
    {
     "name": "stdout",
     "output_type": "stream",
     "text": [
      "528.8104858398438 0.5\n",
      "372.21835170648035 0.625\n"
     ]
    }
   ],
   "source": [
    "print(val_loss, val_accuracy)\n",
    "print(test_loss, test_accuracy)"
   ]
  },
  {
   "cell_type": "code",
   "execution_count": null,
   "metadata": {},
   "outputs": [],
   "source": [
    "del data_val\n",
    "del data_test"
   ]
  },
  {
   "cell_type": "code",
   "execution_count": null,
   "metadata": {},
   "outputs": [],
   "source": [
    "# Load model\n",
    "# new_model = tf.keras.models.load_model(model_name)\n"
   ]
  },
  {
   "cell_type": "code",
   "execution_count": null,
   "metadata": {},
   "outputs": [],
   "source": [
    "# to_test = np.asarray([test1, test2, ...])\n",
    "# predictions = new_model.predict(to_test)\n",
    "# TODO: convert to class labels and probability"
   ]
  }
 ],
 "metadata": {
  "kernelspec": {
   "display_name": "Python 3",
   "language": "python",
   "name": "python3"
  },
  "language_info": {
   "codemirror_mode": {
    "name": "ipython",
    "version": 3
   },
   "file_extension": ".py",
   "mimetype": "text/x-python",
   "name": "python",
   "nbconvert_exporter": "python",
   "pygments_lexer": "ipython3",
   "version": "3.7.4"
  }
 },
 "nbformat": 4,
 "nbformat_minor": 4
}
