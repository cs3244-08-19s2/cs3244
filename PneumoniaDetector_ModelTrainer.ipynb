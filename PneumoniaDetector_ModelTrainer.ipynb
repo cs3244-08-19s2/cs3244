{
 "cells": [
  {
   "cell_type": "code",
   "execution_count": null,
   "metadata": {},
   "outputs": [],
   "source": [
    "import matplotlib.pyplot as plt\n",
    "import numpy as np\n",
    "import platform\n",
    "from keras.applications.xception import Xception\n",
    "from keras.layers import Dense, GlobalMaxPooling2D\n",
    "from keras.models import Model\n",
    "\n",
    "%matplotlib inline\n",
    "%load_ext autoreload\n",
    "%aimport utils\n",
    "%autoreload 1"
   ]
  },
  {
   "cell_type": "code",
   "execution_count": null,
   "metadata": {},
   "outputs": [],
   "source": [
    "### MODEL PARAMETERS ###\n",
    "optimizer_func = \"adam\"\n",
    "loss_func = \"binary_crossentropy\"\n",
    "epochs_num = 3\n",
    "num_of_trainable_layers = 20\n",
    "model_name = \"pneumonia_detector.model\"\n",
    "\n",
    "### CACHE FILENAMES ###\n",
    "train_normal_cache = \"training_normal.pickle\"\n",
    "train_pneumonia_cache = \"training_pneumonia.pickle\"\n",
    "val_normal_cache = \"validation_normal.pickle\"\n",
    "val_pneumonia_cache = \"validation_pneumonia.pickle\"\n",
    "test_normal_cache = \"testing_normal.pickle\"\n",
    "test_pneumonia_cache = \"testing_pneumonia.pickle\""
   ]
  },
  {
   "cell_type": "code",
   "execution_count": null,
   "metadata": {},
   "outputs": [],
   "source": [
    "### SETTINGS ###\n",
    "\n",
    "pdiv = \"/\" if platform.system() == \"Windows\" else \"\\\\\"\n",
    "\n",
    "# Data paths\n",
    "path_train_normal = \".{}chest_xray{}train{}NORMAL{}\".format(pdiv, pdiv, pdiv, pdiv)\n",
    "path_train_pneumonia = \".{}chest_xray{}train{}PNEUMONIA{}\".format(pdiv, pdiv, pdiv, pdiv)\n",
    "path_val_normal = \".{}chest_xray{}val{}NORMAL{}\".format(pdiv, pdiv, pdiv, pdiv)\n",
    "path_val_pneumonia = \".{}chest_xray{}val{}PNEUMONIA{}\".format(pdiv, pdiv, pdiv, pdiv)\n",
    "path_test_normal = \".{}chest_xray{}test{}NORMAL{}\".format(pdiv, pdiv, pdiv, pdiv)\n",
    "path_test_pneumonia = \".{}chest_xray{}test{}PNEUMONIA{}\".format(pdiv, pdiv, pdiv, pdiv)\n",
    "\n",
    "# Labels\n",
    "normal_label = 0\n",
    "pneumonia_label = 1\n",
    "\n",
    "labels = sorted([normal_label, pneumonia_label])"
   ]
  },
  {
   "cell_type": "code",
   "execution_count": null,
   "metadata": {},
   "outputs": [],
   "source": [
    "### LOAD TRAINING DATA AND LABELS ###\n",
    "\n",
    "data_train_normal, label_train_normal = utils.load_data(path_train_normal, train_normal_cache, normal_label)\n",
    "data_train_pneumonia, label_train_pneumonia = utils.load_data(path_train_pneumonia, train_pneumonia_cache, pneumonia_label)\n",
    "\n",
    "# Caching, disabled for now\n",
    "# utils.cache(data_train_normal, train_normal_cache)\n",
    "# utils.cache(data_train_pneumonia, train_pneumonia_cache)\n",
    "\n",
    "# Combine training images and labels\n",
    "data_train = np.concatenate((data_train_normal, data_train_pneumonia), axis=0)\n",
    "label_train = np.asarray(label_train_normal + label_train_pneumonia)\n",
    "\n",
    "del data_train_normal\n",
    "del data_train_pneumonia"
   ]
  },
  {
   "cell_type": "code",
   "execution_count": null,
   "metadata": {},
   "outputs": [],
   "source": [
    "### IMAGE PROCESSING ###\n",
    "\n",
    "# Image cropping\n",
    "data_train = utils.images_crop_from_centre(data_train, percentage=0.9)\n",
    "\n",
    "# Image resizing - 299,299 is the size accepted by Xception Model\n",
    "data_train = utils.images_resize(data_train, (299, 299)) \n",
    "\n",
    "# Image normalisation\n",
    "data_train = utils.images_normalize(data_train)"
   ]
  },
  {
   "cell_type": "code",
   "execution_count": null,
   "metadata": {},
   "outputs": [],
   "source": [
    "### MODEL CREATION ###\n",
    "from keras.layers import Reshape, Flatten\n",
    "\n",
    "# Set model\n",
    "base_model = Xception(weights='imagenet', include_top=False, input_shape=(299,299,3))\n",
    "model = base_model.output\n",
    "model = GlobalMaxPooling2D()(model)\n",
    "model = Dense(1024, activation='relu')(model)\n",
    "model = Dense(1024, activation='relu')(model)\n",
    "preds = Dense(units=1, activation='sigmoid')(model)\n",
    "model = Model(inputs=base_model.input, outputs=preds)\n",
    "\n",
    "# Set trainable layers\n",
    "for layer in model.layers[:-num_of_trainable_layers]:\n",
    "    layer.trainable = False\n",
    "for layer in model.layers[-num_of_trainable_layers:]:\n",
    "    layer.trainable = True\n",
    "    \n",
    "# Define optimiser, loss function, and metrics to track\n",
    "model.compile(optimizer=optimizer_func, loss=loss_func, metrics=['accuracy'])"
   ]
  },
  {
   "cell_type": "code",
   "execution_count": null,
   "metadata": {},
   "outputs": [],
   "source": [
    "# Model training\n",
    "model.fit(data_train, label_train, epochs=epochs_num)"
   ]
  },
  {
   "cell_type": "code",
   "execution_count": null,
   "metadata": {},
   "outputs": [],
   "source": [
    "del data_train"
   ]
  },
  {
   "cell_type": "code",
   "execution_count": null,
   "metadata": {},
   "outputs": [],
   "source": [
    "### LOAD VALIDATION DATA AND LABELS ###\n",
    "\n",
    "data_val_normal, label_val_normal = utils.load_data(path_val_normal, val_normal_cache, normal_label)\n",
    "data_val_pneumonia, label_val_pneumonia = utils.load_data(path_val_pneumonia, val_pneumonia_cache, pneumonia_label)\n",
    "\n",
    "# Caching, disabled for now\n",
    "# utils.cache(data_val_normal, val_normal_cache)\n",
    "# utils.cache(data_val_pneumonia, val_pneumonia_cache)\n",
    "\n",
    "# Combine validation images and labels\n",
    "data_val = np.concatenate((data_val_normal, data_val_pneumonia), axis=0)\n",
    "label_val = np.asarray(label_val_normal + label_val_pneumonia)\n",
    "\n",
    "del data_val_normal\n",
    "del data_val_pneumonia"
   ]
  },
  {
   "cell_type": "code",
   "execution_count": null,
   "metadata": {},
   "outputs": [],
   "source": [
    "### LOAD TESTING DATA AND LABELS ###\n",
    "\n",
    "data_test_normal, label_test_normal = utils.load_data(path_test_normal, test_normal_cache, normal_label)\n",
    "data_test_pneumonia, label_test_pneumonia = utils.load_path(path_test_pneumonia, test_pneumonia_cache, pneumonia_label)\n",
    "\n",
    "# Caching, disabled for now\n",
    "# utils.cache(data_test_normal, test_normal_cache)\n",
    "# utils.cache(data_test_pneumonia, test_pneumonia_cache)\n",
    "\n",
    "# Combine testing images and labels\n",
    "data_test = np.concatenate((data_test_normal, data_test_pneumonia), axis=0)\n",
    "label_test = np.asarray(label_test_normal, label_test_pneumonia)\n",
    "\n",
    "del data_test_normal\n",
    "del data_val_pneumonia"
   ]
  },
  {
   "cell_type": "code",
   "execution_count": null,
   "metadata": {},
   "outputs": [],
   "source": [
    "# Validation and testing\n",
    "val_loss, val_accuracy = model.evaluate(data_val, label_val)\n",
    "test_loss, test_accuracy = model.evaluate(data_test, label_test)"
   ]
  },
  {
   "cell_type": "code",
   "execution_count": null,
   "metadata": {},
   "outputs": [],
   "source": [
    "del data_val\n",
    "del data_test"
   ]
  },
  {
   "cell_type": "code",
   "execution_count": null,
   "metadata": {},
   "outputs": [],
   "source": [
    "# Save the model for usage\n",
    "model.save(model_name)"
   ]
  },
  {
   "cell_type": "code",
   "execution_count": null,
   "metadata": {},
   "outputs": [],
   "source": [
    "# Load model\n",
    "# new_model = tf.keras.models.load_model(model_name)"
   ]
  },
  {
   "cell_type": "code",
   "execution_count": null,
   "metadata": {},
   "outputs": [],
   "source": [
    "# to_test = np.asarray([test1, test2, ...])\n",
    "# predictions = new_model.predict(to_test)\n",
    "# TODO: convert to class labels and probability"
   ]
  }
 ],
 "metadata": {
  "kernelspec": {
   "display_name": "Python 3",
   "language": "python",
   "name": "python3"
  },
  "language_info": {
   "codemirror_mode": {
    "name": "ipython",
    "version": 3
   },
   "file_extension": ".py",
   "mimetype": "text/x-python",
   "name": "python",
   "nbconvert_exporter": "python",
   "pygments_lexer": "ipython3",
   "version": "3.6.10"
  }
 },
 "nbformat": 4,
 "nbformat_minor": 4
}
